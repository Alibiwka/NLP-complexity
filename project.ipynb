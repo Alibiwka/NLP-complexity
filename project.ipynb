{
 "cells": [
  {
   "cell_type": "code",
   "execution_count": 1,
   "metadata": {},
   "outputs": [
    {
     "name": "stdout",
     "output_type": "stream",
     "text": [
      "pmi.npz\n"
     ]
    }
   ],
   "source": [
    "#df=load_matrix(\"pmi.npz\")\n",
    "matrix_name=input()"
   ]
  },
  {
   "cell_type": "code",
   "execution_count": 7,
   "metadata": {},
   "outputs": [],
   "source": [
    "from __future__ import print_function, division\n",
    "from collections import Counter\n",
    "from itertools import combinations\n",
    "from math import log\n",
    "from pprint import pformat\n",
    "from scipy.sparse import csc_matrix\n",
    "from scipy.sparse import csr_matrix\n",
    "from scipy.sparse.linalg import svds\n",
    "from string import punctuation\n",
    "from time import time\n",
    "import matplotlib.pyplot as plt\n",
    "import numpy as np\n",
    "import pandas as pd\n",
    "%matplotlib inline\n",
    "\n",
    "import matplotlib.pyplot as plt\n",
    "import networkx as nx\n",
    "from networkx.algorithms import average_clustering\n",
    "import numpy as np\n",
    "import seaborn as sns\n",
    "\n",
    "np.random.seed(17)\n",
    "from warnings import simplefilter\n",
    "import matplotlib.cbook\n",
    "simplefilter(\"ignore\", matplotlib.cbook.mplDeprecation)"
   ]
  },
  {
   "cell_type": "code",
   "execution_count": 8,
   "metadata": {},
   "outputs": [],
   "source": [
    "def load_vocabulary(path):\n",
    "    with open(path) as f:\n",
    "        vocab = [line.strip() for line in f if len(line) > 0]\n",
    "    return dict([(a, i) for i, a in enumerate(vocab)]), vocab\n",
    "\n",
    "\n",
    "\n",
    "def load_matrix(f):\n",
    "    if not f.endswith('.npz'):\n",
    "        f += '.npz'\n",
    "    loader = np.load(f)\n",
    "    return csr_matrix((loader['data'], loader['indices'], loader['indptr']), shape=loader['shape'])\n",
    "\n",
    "def sample_path_lengths(G, nodes=None, trials=1000):\n",
    "    if nodes is None:\n",
    "        nodes = list(G)\n",
    "    else:\n",
    "        nodes = list(nodes)\n",
    "    pairs = np.random.choice(nodes, (trials, 2))\n",
    "    lengths = [nx.shortest_path_length(G, *pair) for pair in pairs]\n",
    "    return lengths\n",
    "\n",
    "def estimate_path_length(G, nodes=None, trials=1000):\n",
    "    return np.mean(sample_path_lengths(G, nodes, trials))\n",
    "\n",
    "def degrees(Gr2):\n",
    "    \"\"\"List of degrees for nodes in `G`.\n",
    "    \n",
    "    G: Graph object\n",
    "    \n",
    "    returns: list of int\n",
    "    \"\"\"\n",
    "    return [Gr2.degree(u) for u in Gr2]"
   ]
  },
  {
   "cell_type": "code",
   "execution_count": 9,
   "metadata": {},
   "outputs": [],
   "source": [
    "df=load_matrix(matrix_name)\n",
    "matrix_dense = df.todense()\n",
    "G=nx.from_numpy_matrix(matrix_dense)"
   ]
  },
  {
   "cell_type": "code",
   "execution_count": null,
   "metadata": {},
   "outputs": [],
   "source": [
    "G = max(nx.connected_component_subgraphs(G), key=len)\n",
    "C = average_clustering(G)\n",
    "#L = estimate_path_length(G, trials=1000)\n",
    "#print(C)\n",
    "#print(L)\n",
    "#nx.draw_networkx_edges(G, pos=nx.spring_layout(G))  # use spring layout\n",
    "\n",
    "n=len(G)\n",
    "m=len(G.edges)\n",
    "k = int(round(2*m/n))\n"
   ]
  },
  {
   "cell_type": "code",
   "execution_count": null,
   "metadata": {},
   "outputs": [],
   "source": [
    "# c=load_vocabulary(\"pmi.contexts.vocab\")\n",
    "# words=c[1]\n",
    "# counts=[counts for counts,words in sorted(zip(degrees(G),words))]\n",
    "# words=[words for counts,words in sorted(zip(degrees(G),words))]"
   ]
  },
  {
   "cell_type": "code",
   "execution_count": null,
   "metadata": {},
   "outputs": [],
   "source": [
    "zero_counts=[degrees(G), [0]*5500]\n",
    "plt.hist(zero_counts, log=True)\n",
    "print(C)"
   ]
  },
  {
   "cell_type": "code",
   "execution_count": null,
   "metadata": {},
   "outputs": [],
   "source": []
  }
 ],
 "metadata": {
  "kernelspec": {
   "display_name": "Python 3",
   "language": "python",
   "name": "python3"
  },
  "language_info": {
   "codemirror_mode": {
    "name": "ipython",
    "version": 3
   },
   "file_extension": ".py",
   "mimetype": "text/x-python",
   "name": "python",
   "nbconvert_exporter": "python",
   "pygments_lexer": "ipython3",
   "version": "3.7.3"
  }
 },
 "nbformat": 4,
 "nbformat_minor": 2
}
